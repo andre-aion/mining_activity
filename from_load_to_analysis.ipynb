{
 "cells": [
  {
   "cell_type": "markdown",
   "metadata": {},
   "source": [
    "# TOC"
   ]
  },
  {
   "cell_type": "markdown",
   "metadata": {},
   "source": [
    "## Load imports"
   ]
  },
  {
   "cell_type": "markdown",
   "metadata": {},
   "source": [
    "### Non pyspark"
   ]
  },
  {
   "cell_type": "code",
   "execution_count": 63,
   "metadata": {},
   "outputs": [],
   "source": [
    "import time\n",
    "import numpy as np\n",
    "import pandas as pd\n",
    "from fastparquet import ParquetFile, write\n",
    "import matplotlib.pyplot as plt\n",
    "import timeit\n",
    "import dask.dataframe as dd\n",
    "import holoviews as hv\n",
    "import datashader as ds\n",
    "import gc\n",
    "from os.path import join, dirname\n",
    "import pyarrow \n",
    "import pyarrow.parquet as pq\n",
    "# PLOT USING HOLOVIEWS DASK AND DATASHADER\n",
    "import hvplot.pandas\n",
    "import hvplot.dask\n",
    "import hvplot as hv\n",
    "from bokeh.models import HoverTool\n",
    "from pdb import set_trace\n",
    "from datetime import datetime, timedelta\n",
    "import csv\n",
    "import dateutil.relativedelta\n",
    "\n",
    "%matplotlib inline"
   ]
  },
  {
   "cell_type": "markdown",
   "metadata": {},
   "source": [
    "### Pyspark"
   ]
  },
  {
   "cell_type": "code",
   "execution_count": 64,
   "metadata": {},
   "outputs": [],
   "source": [
    "#UTILS \n",
    "import findspark\n",
    "findspark.init('/usr/local/spark/spark-2.3.2-bin-hadoop2.7')\n",
    "\n",
    "import pyspark\n",
    "from pyspark.sql.functions import *\n",
    "from pyspark import SparkContext, SparkConf\n",
    "import pyspark.sql.functions as f\n",
    "from pyspark.sql.types import DateType, StringType, IntegerType\n",
    "from pyspark.sql import *\n",
    "from pyspark.sql.window import Window\n",
    "\n",
    "spark = SparkSession \\\n",
    "    .builder \\\n",
    "    .appName(\"Poolminers\") \\\n",
    "    .getOrCreate()\n",
    "\n",
    "sc=SparkContext.getOrCreate(spark)"
   ]
  },
  {
   "cell_type": "markdown",
   "metadata": {},
   "source": [
    "## UTILS"
   ]
  },
  {
   "cell_type": "code",
   "execution_count": 65,
   "metadata": {},
   "outputs": [],
   "source": [
    "t0 = time.time()\n",
    "# EXPLODE THE TRANSACTION_LIST COLUMN IN AIONV4.BLOCK\n",
    "def explode_block(df1,col):\n",
    "    # explode the list the first time\n",
    "    df1 = df1.withColumn(col,explode(split(f.col(col),'\\],\\[') ))\n",
    "    # extract the transaction_hash\n",
    "    df1 = df1.withColumn(col,regexp_replace('transaction_list', '(\\[|\\]|\")', ''))\n",
    "    df1 = df1.withColumn(col, df1[col].substr(0, 64))\n",
    "    return df1\n",
    "\n",
    "# munge block dataframe\n",
    "def hex_to_int(x):\n",
    "    return int(x,16)\n",
    "\n",
    "def munge_block(df1):\n",
    "    df1 = explode_block(df1,'transaction_list')\n",
    "    udf_hex_to_int = udf(hex_to_int,IntegerType())\n",
    "    df1 = df1.withColumn('difficulty',udf_hex_to_int('difficulty'))\n",
    "    return df1\n",
    "\n",
    "def value_hex_to_int(x):\n",
    "    output = 0\n",
    "    try:\n",
    "        output = int(str(x),16)\n",
    "    except:\n",
    "        output = 0\n",
    "        \n",
    "    return output\n",
    "\n",
    "# MAKE LIST OF TIER 1 MINERS\n",
    "def make_tier1_list(df1,threshold_tx_paid_out=10,threshold_blocks_mined_per_day=1.5):\n",
    "    # find all miners in period and make list\n",
    "    miner_list_0 = [i.miner_address for i in df1.select('miner_address').distinct().collect()]\n",
    "    miner_list_1 = [i.to_addr for i in df1.select('to_addr').distinct().collect()]\n",
    "    miner_list = list(set(miner_list_0 + miner_list_1))\n",
    "    # Count transactions paid out per day: group transactions by date and miner\n",
    "    # tier 1 = percentage mined per day > threshold || transactions paid out > threshold per day# make unique list of tier 1\n",
    "    df_temp = df1.groupBy('from_addr','block_timestamp').agg({'to_addr':'count'})\n",
    "    df_temp = df_temp.dropna()\n",
    "    # find daily mean\n",
    "    df_temp = df_temp.groupBy('from_addr').agg({'count(to_addr)':'mean'})\n",
    "    df_temp = df_temp.filter(df_temp['avg(count(to_addr))']>=threshold_tx_paid_out)\n",
    "    # make list of tier 1 using tx paid out\n",
    "    list_a = [i.from_addr for i in df_temp.select('from_addr').distinct().collect()]\n",
    "    # check against miner list to ensure that only miners are included\n",
    "    list_a = list(set(miner_list) & set(list_a))\n",
    "    df_temp.unpersist()\n",
    "    \n",
    "    # Get percentage blocks mined per day: group by miner address, day and count\n",
    "    df_temp = df.groupBy('miner_address','block_timestamp')\\\n",
    "        .agg({'block_number':'count'})\\\n",
    "        .withColumn('percent',100*(col('count(block_number)')/\n",
    "                                   sum(col('count(block_number)')).over(Window.partitionBy())))\n",
    "    df_temp = df_temp.groupBy('miner_address').agg({'percent':'mean'})\n",
    "    df_temp = df_temp.filter(df_temp['avg(percent)']>=threshold_blocks_mined_per_day)\n",
    "    list_b = [i.miner_address for i in df_temp.select('miner_address').distinct().collect()]\n",
    "    df_temp.unpersist()\n",
    "    print(list_a)\n",
    "    print(list_b)\n",
    "    #merge lists, drop duplicates\n",
    "    tier1_miner_list = list(set(list_a+list_b))\n",
    "    del list_a,list_b\n",
    "\n",
    "    #check this list again miner_address\n",
    "    gc.collect()\n",
    "    return tier1_miner_list\n",
    "\n",
    "# MAKE LIST OF ALL MINERS\n",
    "def make_miner_list(df1):\n",
    "    df_temp = df1.groupby('to_addr').agg({'from_addr':'count'})\n",
    "    df_temp = df_temp.dropna()\n",
    "    miner_list_1 = [i.to_addr for i in df_temp.select('to_addr').distinct().collect()]\n",
    "    df_temp.unpersist()\n",
    "    df_temp = df1.groupBy('miner_address').agg({'block_number':'count'})\n",
    "    d_temp = df_temp.dropna()\n",
    "    miner_list_0 = [i.miner_address for i in df_temp.select('miner_address').distinct().collect()]\n",
    "    df_temp.unpersist()\n",
    "    return list(set(miner_list_1 + miner_list_0))\n",
    "\n",
    "\n",
    "# dateformat = 'yyyy-mm-dd 00:00:00'\n",
    "# CHANGE INDIVIDUAL DATE TO TIMESTAMP\n",
    "def date_to_timestamp(date):\n",
    "    return datetime.strptime(date, \"%Y-%m-%d %H:%M:%S\").timestamp()\n",
    "\n",
    "# CREATE TIMESTAMP COLUMN IN DATETYPE FORMAT GIVEN A SPARK DATAFRAME\n",
    "def timestamp_to_date(df,col):\n",
    "    return df.withColumn('block_timestamp', f.from_unixtime('block_timestamp').cast(DateType()))\n",
    "\n",
    "# TRUNCATE SPARK DATAFRAME GIVEN STRING DATES\n",
    "# dateformat = 'yyyy-mm-dd 00:00:00'\n",
    "def truncate_dataframe(df1,startdate,enddate):\n",
    "    # get a month of data prior to startdate\n",
    "    startdate = date_to_timestamp(startdate)# get a month of data prior to startdate\n",
    "    startdate1 = startdate - ( 30 * 24 * 60 * 60)\n",
    "    enddate = date_to_timestamp(enddate)\n",
    "    if startdate > enddate:\n",
    "        startdate = enddate\n",
    "    df1 = df1.filter((f.col('block_timestamp') >= startdate1) & \n",
    "              (f.col('block_timestamp') <= enddate))\n",
    "    df1 = timestamp_to_date(df1,'block_timestamp')\n",
    "    return df1\n",
    "\n",
    "# UDF FUNCTIONS TO INCLUDE EXTERNAL \n",
    "class MyUDFs:\n",
    "    #DICTIONARY WHEN MATCHING POOLNAME WITH MINER ADDRESS    \n",
    "    def populate(self):\n",
    "        self.df_poolinfo = pd.read_csv('../data/poolinfo.csv')\n",
    "        self.dict_poolinfo = dict(zip(self.df_poolinfo.address,self.df_poolinfo.poolname))\n",
    "        self.pool_keys = list(self.dict_poolinfo.keys())\n",
    "        \n",
    "    def get_poolname_label(self):\n",
    "        def ab(miner_address,pool_tier):\n",
    "            if miner_address in self.pool_keys:\n",
    "                return self.dict_poolinfo[miner_address]\n",
    "            else:\n",
    "                if pool_tier == 1:\n",
    "                    return miner_address[0:10]\n",
    "                else:\n",
    "                    return 'tier 2'\n",
    "        return udf(ab,StringType())\n",
    "    \n",
    "    def get_poolname_label_list(self,lst):\n",
    "        output = list()\n",
    "        for miner_address in lst:\n",
    "            if miner_address in self.pool_keys:\n",
    "                output.append(self.dict_poolinfo[miner_address])\n",
    "            else:\n",
    "                output.append(miner_address[0:10])\n",
    "        \n",
    "        return output\n",
    "                \n",
    "\n",
    "\n"
   ]
  },
  {
   "cell_type": "markdown",
   "metadata": {},
   "source": [
    "## Load data"
   ]
  },
  {
   "cell_type": "code",
   "execution_count": 66,
   "metadata": {},
   "outputs": [],
   "source": [
    "# LOAD FROM DATABASE\n",
    "block_columns = ['block_timestamp','difficulty','transaction_hash',\n",
    "                      'miner_address','block_number']\n",
    "tx_columns = ['block_timestamp','from_addr','to_addr','value']\n",
    "df_tx = spark.read.parquet('../data/transaction.parquet').select('transaction_hash','block_timestamp','from_addr','to_addr','value')  \n",
    "df_block = spark.read.parquet('../data/block.parquet').select('block_timestamp','difficulty','transaction_list',\n",
    "                      'miner_address','block_number')\n"
   ]
  },
  {
   "cell_type": "markdown",
   "metadata": {},
   "source": [
    "##  Make data warehouse for period (start_date, enddate)"
   ]
  },
  {
   "cell_type": "markdown",
   "metadata": {},
   "source": [
    "#### ENTER INPUT DATES"
   ]
  },
  {
   "cell_type": "code",
   "execution_count": 67,
   "metadata": {},
   "outputs": [],
   "source": [
    "startdate = '2018-10-01 00:00:00'\n",
    "enddate = '2018-10-14 00:00:00'\n",
    "analysis_period = startdate[0:10]+' to '+enddate[0:10]+': '"
   ]
  },
  {
   "cell_type": "code",
   "execution_count": 68,
   "metadata": {},
   "outputs": [
    {
     "data": {
      "text/plain": [
       "327"
      ]
     },
     "execution_count": 68,
     "metadata": {},
     "output_type": "execute_result"
    }
   ],
   "source": [
    "# truncate dataframes\n",
    "df_block_1 = truncate_dataframe(df_block,startdate, enddate).drop('__index_level_0__')\n",
    "df_block_1 = munge_block(df_block_1)\n",
    "\n",
    "df_tx_1 = truncate_dataframe(df_tx,startdate,enddate).drop('block_timestamp')\n",
    "#\n",
    "df_tx_1 = df_tx_1.drop('__index_level_0__')\n",
    "df = df_block_1.join(df_tx_1, df_block_1.transaction_list == \n",
    "                                    df_tx_1.transaction_hash,how='left').drop('transaction_list')\n",
    "df_tx.unpersist()\n",
    "df_tx_1.unpersist()\n",
    "df_block.unpersist()\n",
    "df_block_1.unpersist()\n",
    "gc.collect()"
   ]
  },
  {
   "cell_type": "markdown",
   "metadata": {},
   "source": [
    "### Identify tier 1 addresses"
   ]
  },
  {
   "cell_type": "markdown",
   "metadata": {},
   "source": [
    "#### SETUP"
   ]
  },
  {
   "cell_type": "code",
   "execution_count": 69,
   "metadata": {},
   "outputs": [],
   "source": [
    "threshold_tx_paid_out = 10\n",
    "threshold_blocks_mined_per_day = 1 # Percentage"
   ]
  },
  {
   "cell_type": "code",
   "execution_count": 70,
   "metadata": {},
   "outputs": [
    {
     "name": "stdout",
     "output_type": "stream",
     "text": [
      "['a05b4d9de807fef0851bc51676aa989d79b578d9b83181ef17150574701ce9af', 'a06cac75d9211abff36fe2cf9e7fc1741b076cea40324eb597b3957942be483f', 'a0087f6afb456a5d69855594606594e6bc5309cd0b8ad233ba147ea7fca5b3f3', 'a0d2086132f7076d63730e4fdbffbdfbc4e8f02e1e855187d56f7c8d412838b2', 'a099688bb19051b38c846580600812d095f89cfff7abc17ab6c4af63e408f2f1', 'a022a68ef27e5febe4570edb2ce5586974cb326f24fce2ebb23012c07dac90e0', 'a027f5dda9fc518b5465941d84201739a581d0f30b8744eca21136175785c2aa', 'a0a1e55cbbffc99d9dcaf56e5350847267471cd6d69d4dead14953e5e82d97bf', 'a0fde4c8c5b90d55f81970750c80ac7130c269bbbdce5b4ece3cfd10ff7e5f40', 'a08c1cccf49d7ac14d6e0ac19ace643df3174acfa8755ba3723e588420e644fd', 'a0548cbbc4fc8c6b73fb9a915b0fad7d537e36abc05927d0c614ce14545d8621', 'a075e26d87f852324cf55626072c930dce6129bae7defcbccd1bf45063a46ffd', 'a088082e8a56dfa1b0e903ec194048fa97007831789e42ed277dae2c64e9d95e', 'a084bbc3d8f732950c1af3dc9ea9cc9c4bbee7b1ec2a33a193cc67eab5611799', 'a07a07e8965418ed2355ed5b062dd9ec29a099578d7330c206666abcb0b9aab9', 'a00983f07c11ee9160a64dd3ba3dc3d1f88332a2869f25725f56cbd0be32ef7a', 'a05801fb2de5b76568a9c13f86766ebe3e6c438272e9fc6f5fabfcbea93048bf', 'a00cfb076f34aae5649c87067a61c2b459616063064f67594bba6e1d79da6eba', 'a0c801e939167e2721e77542f397ea258981a554c1760e69992d8d7f60f156e8', 'a0fb2538ba87e9a84a87fe583e1e669b76e8817a550d251645408a4e92167739', 'a0f2daa8de60d0e911fb468492242d604e1e11ec6f142bfee15757408aff2902', 'a0a0f44f1b7a9dbf2e7a7b3622a497302d30d9944527f17c9ea5edd1d71d9400', 'a0a61ec2530562609ea80a5d2db47817ed5a4e2e0a6c4059299a60a8a36473c5', 'a0788fbca41db844dce01aac5ef066ace4bf40b0152616f80675c3359ded0357', 'a0bc5fdfa032b0effae825dab4c84ef00626f9c760d27ef8bee29b5ed9b12dd1', 'a0f93c78cbb595855e8cb3449581c037509946af0d284f13d6713ecde1a325f5', 'a0e4eeacc44e4dff90cd594719f418e23f75a9f20c16fb132ba854e409ab3b3b', 'a0c5273e2e5b1989fd8dddd28370bf47ff4a271786d7886a328669cc214f95fa', 'a07981da70ce919e1db5f051c3c386eb526e6ce8b9e2bfd56e3f3d754b0a17f3', 'a0ee0011fda69294c5c3405d488fdabfe5fef8b0ab81d4433714a03a2f65755f', 'a041108567a57569616fa0cb681ec92dbcae64b56e17a65b483be72070cd89b5', 'a09b74d1356d934dc3b7d0a3a75a35c7c47757a01a8c8c26da1e85959a3b435b', 'a073d10b1c2ed34f832a8d071b66bdf3f7456372dc1b5e074445ae96de02bc7b', 'a0498b8723367666e0bd8d9158cc6d84efb6bcf432613741bdf945167b07b5cb', 'a02d019086934b5803fd74a97de3e2170d5393662e33a9babe6cddc6e3a6f730', 'a0d92d77c68bbbb693bcefe660ed5e6af9331181c35c6368c5adf876ab3dc29e', 'a03fb732a2232d4f2686d9f73f262ecd87e6433615ef563d84d8563187921eba', 'a0e6635ca75403ab58139ef8fd45c9b2ddb888985b9ae63bdf6fd2da571eea4c', 'a05d88b335c6915e14e493cd84ce87d4eac0a9d95ad7eb17080e44ad9ccbfa40', 'a0c4ea05fe6a5b047315962637cdb201d5d8718f8e6be5e56a1b402fcd9bde5e', 'a067c6e7143b9eb37ec7737dd00962b3faab0cc693f3cfebecb576273000cd08', 'a04b19c1e9c60ad9cfaf821c0fc8cc2df19edb7f34d0921d4920533e3720f9ec', 'a032dcef8f8b6de5269798260b43db0d54d26caafac16eb1808c176b2a34c73b', 'a0afea235b391cc31bf4a26d6bb5513639c718941a47418bd6d4cf4f957e84f9', 'a04e195d119c0d4b4e09ce81bb5dae831905c6a5a46f4d646958ea273a6a3691', 'a0e71e249845a84d97c6a0aa92e71a914c79e9f869676153bc0533042afb3e42', 'a08fbc834b450044e750b90b2a43fec15ba03fd0c20fd5a3463f9f394235db5d', 'a0a5feba81787c6d21f81be40f3d71b54ddf8a4c1fbc4917b56be99ddcd6b1b0', 'a015f4d8e234ac9262092c41eaba6e28943bcdbbbdd1ed3ce62a58208541e053', 'a0ed62bc7f308fa712792515d840f3a086fe36d9959207a468e2ca70ec503b89', 'a01e968221584946dac1e6842bf985de7ff49c8b9913220ed793d64a150b2864', 'a023fae1b60e6cd37a3e5ca11331549ba9e8029618fb635ed29ad377b9d911f8', 'a0cc87f13bcb55b56f7d2a3703f3595c736ccbcec3d8c18488ec4e0c77c1cf1c', 'a0e342ff441c781e46cc9047cc60d8d7dd389bc33cd9ca6a560942d99adc4abb', 'a0b90ef07e41e03c85581f79edcc0d14481452199c127c18706801f29ebfeffa', 'a05c438efd2be36478bcd7e2ac277754d0e227f3e727b592aaf944de0e7ad7dc', 'a0641838746d15b5c2a1b2b4b57597cf159b1af3a47f785d8c9281bd2dfccd56', 'a0910a7dbb1f919df576e9aa333e1d79b0a5234aefd168b5b240254579f926ef', 'a0e46d53e15411fb7f17fee8578256a849b98475c6324fd1046119996d2906fa', 'a08091ab0325e384ac45e560d2f85e4b741363aa98881d52d54233a02b33fcaa', 'a0b017c28ad66e3a94a2618475b26b30b5fb02bb4e1ca0df1b77c10f1e9e0557', 'a08c9f8dcc12d25d1971de13f2fdeefc149f06c76603858c84de3f9578885015', 'a0f73c54bb78587be1b19bef8a47b834984080a5ceb4668ea349767a0d094a09']\n",
      "[]\n"
     ]
    }
   ],
   "source": [
    "tier1_miner_list = make_tier1_list(df,threshold_tx_paid_out,threshold_blocks_mined_per_day)\n",
    "# ADD A COLUMN CALLED POOL_TIER: 1 , 2\n",
    "pool_tier_udf = f.udf(lambda miner_address: 1 if \n",
    "                      miner_address in tier1_miner_list else 2, IntegerType())\n",
    "df = df.withColumn('pool_tier',pool_tier_udf(df.miner_address))"
   ]
  },
  {
   "cell_type": "markdown",
   "metadata": {},
   "source": [
    "### Label pools in dataframe"
   ]
  },
  {
   "cell_type": "code",
   "execution_count": 71,
   "metadata": {},
   "outputs": [],
   "source": [
    "myUDF  = MyUDFs()\n",
    "myUDF.populate() \n",
    "df = df.withColumn('poolname',myUDF.get_poolname_label()(df[\"miner_address\"],df[\"pool_tier\"]))               \n",
    "    "
   ]
  },
  {
   "cell_type": "markdown",
   "metadata": {},
   "source": [
    "## Analysis & plots"
   ]
  },
  {
   "cell_type": "markdown",
   "metadata": {},
   "source": [
    "### Mining addresses and rewards, tier 2"
   ]
  },
  {
   "cell_type": "code",
   "execution_count": null,
   "metadata": {},
   "outputs": [
    {
     "name": "stdout",
     "output_type": "stream",
     "text": [
      "['a05b4d9de807fef0851bc51676aa989d79b578d9b83181ef17150574701ce9af', 'a06cac75d9211abff36fe2cf9e7fc1741b076cea40324eb597b3957942be483f', 'a0d2086132f7076d63730e4fdbffbdfbc4e8f02e1e855187d56f7c8d412838b2', 'a099688bb19051b38c846580600812d095f89cfff7abc17ab6c4af63e408f2f1', 'a022a68ef27e5febe4570edb2ce5586974cb326f24fce2ebb23012c07dac90e0', 'a027f5dda9fc518b5465941d84201739a581d0f30b8744eca21136175785c2aa', 'a0a1e55cbbffc99d9dcaf56e5350847267471cd6d69d4dead14953e5e82d97bf', 'a0fde4c8c5b90d55f81970750c80ac7130c269bbbdce5b4ece3cfd10ff7e5f40', 'a08c1cccf49d7ac14d6e0ac19ace643df3174acfa8755ba3723e588420e644fd', 'a0548cbbc4fc8c6b73fb9a915b0fad7d537e36abc05927d0c614ce14545d8621', 'a075e26d87f852324cf55626072c930dce6129bae7defcbccd1bf45063a46ffd', 'a088082e8a56dfa1b0e903ec194048fa97007831789e42ed277dae2c64e9d95e', 'a084bbc3d8f732950c1af3dc9ea9cc9c4bbee7b1ec2a33a193cc67eab5611799', 'a07a07e8965418ed2355ed5b062dd9ec29a099578d7330c206666abcb0b9aab9', 'a00983f07c11ee9160a64dd3ba3dc3d1f88332a2869f25725f56cbd0be32ef7a', 'a05801fb2de5b76568a9c13f86766ebe3e6c438272e9fc6f5fabfcbea93048bf', 'a00cfb076f34aae5649c87067a61c2b459616063064f67594bba6e1d79da6eba', 'a0c801e939167e2721e77542f397ea258981a554c1760e69992d8d7f60f156e8', 'a0fb2538ba87e9a84a87fe583e1e669b76e8817a550d251645408a4e92167739', 'a0f2daa8de60d0e911fb468492242d604e1e11ec6f142bfee15757408aff2902', 'a0a0f44f1b7a9dbf2e7a7b3622a497302d30d9944527f17c9ea5edd1d71d9400', 'a0a61ec2530562609ea80a5d2db47817ed5a4e2e0a6c4059299a60a8a36473c5', 'a0788fbca41db844dce01aac5ef066ace4bf40b0152616f80675c3359ded0357', 'a0bc5fdfa032b0effae825dab4c84ef00626f9c760d27ef8bee29b5ed9b12dd1', 'a0f93c78cbb595855e8cb3449581c037509946af0d284f13d6713ecde1a325f5', 'a0e4eeacc44e4dff90cd594719f418e23f75a9f20c16fb132ba854e409ab3b3b', 'a0c5273e2e5b1989fd8dddd28370bf47ff4a271786d7886a328669cc214f95fa', 'a07981da70ce919e1db5f051c3c386eb526e6ce8b9e2bfd56e3f3d754b0a17f3', 'a0ee0011fda69294c5c3405d488fdabfe5fef8b0ab81d4433714a03a2f65755f', 'a041108567a57569616fa0cb681ec92dbcae64b56e17a65b483be72070cd89b5', 'a09b74d1356d934dc3b7d0a3a75a35c7c47757a01a8c8c26da1e85959a3b435b', 'a073d10b1c2ed34f832a8d071b66bdf3f7456372dc1b5e074445ae96de02bc7b', 'a0498b8723367666e0bd8d9158cc6d84efb6bcf432613741bdf945167b07b5cb', 'a02d019086934b5803fd74a97de3e2170d5393662e33a9babe6cddc6e3a6f730', 'a0d92d77c68bbbb693bcefe660ed5e6af9331181c35c6368c5adf876ab3dc29e', 'a03fb732a2232d4f2686d9f73f262ecd87e6433615ef563d84d8563187921eba', 'a0e6635ca75403ab58139ef8fd45c9b2ddb888985b9ae63bdf6fd2da571eea4c', 'a05d88b335c6915e14e493cd84ce87d4eac0a9d95ad7eb17080e44ad9ccbfa40', 'a0c4ea05fe6a5b047315962637cdb201d5d8718f8e6be5e56a1b402fcd9bde5e', 'a067c6e7143b9eb37ec7737dd00962b3faab0cc693f3cfebecb576273000cd08', 'a04b19c1e9c60ad9cfaf821c0fc8cc2df19edb7f34d0921d4920533e3720f9ec', 'a032dcef8f8b6de5269798260b43db0d54d26caafac16eb1808c176b2a34c73b', 'a0afea235b391cc31bf4a26d6bb5513639c718941a47418bd6d4cf4f957e84f9', 'a0e71e249845a84d97c6a0aa92e71a914c79e9f869676153bc0533042afb3e42', 'a08fbc834b450044e750b90b2a43fec15ba03fd0c20fd5a3463f9f394235db5d', 'a0a5feba81787c6d21f81be40f3d71b54ddf8a4c1fbc4917b56be99ddcd6b1b0', 'a015f4d8e234ac9262092c41eaba6e28943bcdbbbdd1ed3ce62a58208541e053', 'a0ed62bc7f308fa712792515d840f3a086fe36d9959207a468e2ca70ec503b89', 'a01e968221584946dac1e6842bf985de7ff49c8b9913220ed793d64a150b2864', 'a023fae1b60e6cd37a3e5ca11331549ba9e8029618fb635ed29ad377b9d911f8', 'a0cc87f13bcb55b56f7d2a3703f3595c736ccbcec3d8c18488ec4e0c77c1cf1c', 'a0e342ff441c781e46cc9047cc60d8d7dd389bc33cd9ca6a560942d99adc4abb', 'a0b90ef07e41e03c85581f79edcc0d14481452199c127c18706801f29ebfeffa', 'a05c438efd2be36478bcd7e2ac277754d0e227f3e727b592aaf944de0e7ad7dc', 'a0641838746d15b5c2a1b2b4b57597cf159b1af3a47f785d8c9281bd2dfccd56', 'a0910a7dbb1f919df576e9aa333e1d79b0a5234aefd168b5b240254579f926ef', 'a0e46d53e15411fb7f17fee8578256a849b98475c6324fd1046119996d2906fa', 'a08091ab0325e384ac45e560d2f85e4b741363aa98881d52d54233a02b33fcaa', 'a08c9f8dcc12d25d1971de13f2fdeefc149f06c76603858c84de3f9578885015', 'a0f73c54bb78587be1b19bef8a47b834984080a5ceb4668ea349767a0d094a09']\n",
      "[]\n"
     ]
    }
   ],
   "source": [
    "def plot_awards_tier2(df,startdate,enddate):\n",
    "    startdate = datetime.strptime(startdate, \"%Y-%m-%d %H:%M:%S\")\n",
    "    df_curr = df.filter(col('block_timestamp')<startdate)\n",
    "    tier1_miner_list = make_tier1_list(df_curr,threshold_tx_paid_out,\n",
    "                                             threshold_blocks_mined_per_day)\n",
    "    all_miners = make_miner_list(df_curr)\n",
    "    # find tier 2 by finding complement of tier 1 list\n",
    "    tier2_miner_list = list(set(tier1_miner_list) ^ set(all_miners))\n",
    "    # filter dataframe to retain only tier2 miner list\n",
    "    df_curr=df_curr.filter(df_curr.to_addr.isin(tier2_miner_list))\n",
    "    \n",
    "    # get the values for tier 2 miners\n",
    "    # convert to int\n",
    "    udf_hex_to_int = udf(value_hex_to_int,IntegerType())\n",
    "    df_curr = df_curr.withColumn('value',udf_hex_to_int('value'))\n",
    "    df_curr = df_curr.groupby('to_addr').agg({'value':'sum'})\n",
    "    df_curr = df_curr.dropna()\n",
    "    # truncate address string\n",
    "    df_curr = df_curr.withColumn('to_addr',df['to_addr'].substr(0,10))\n",
    "\n",
    "    # convert small group to pandas for plotting\n",
    "    df_curr1 = df_curr.toPandas().sort_values(by=['sum(value)'],ascending=False)\n",
    "    df_curr.unpersist()\n",
    "    # Leave out the datashade option to get the tooltip to work\n",
    "    bar = df_curr1.hvplot.bar('to_addr', ['sum(value)'], rot=90,\n",
    "                             width=4000,height=600,\n",
    "                             title=analysis_period +'Tier 2- Miners, value')\n",
    "    hv.show(bar)\n",
    "    del df_curr1\n",
    "    gc.collect()\n",
    "    \n",
    "plot_awards_tier2(df,startdate,enddate)\n",
    "t1 = time.time()\n",
    "total = t1 - t0\n",
    "print('time elapsed up til tier 2 mining rewards= {} mins'.format(total/60))"
   ]
  },
  {
   "cell_type": "markdown",
   "metadata": {},
   "source": [
    "### Bar graphs of Tier blocks mined over period, poolname"
   ]
  },
  {
   "cell_type": "code",
   "execution_count": null,
   "metadata": {},
   "outputs": [],
   "source": [
    "def plot_miners(df,startdate):\n",
    "    # only plot requested period\n",
    "    startdate = datetime.strptime(startdate, \"%Y-%m-%d %H:%M:%S\")\n",
    "    df_temp = df.filter(f.col('block_timestamp')>= startdate)\n",
    "    \n",
    "    df_temp = df_temp.groupby('poolname').agg({'block_number':'count'})\\\n",
    "        .withColumn('percent',100*(col('count(block_number)')/\n",
    "                                   sum(col('count(block_number)')).over(Window.partitionBy())))\n",
    "    # convert small group to pandas for plotting\n",
    "    df_temp = df_temp.toPandas().sort_values(by=['percent'],ascending=False)\n",
    "    # Leave out the datashade option to get the tooltip to work\n",
    "    \n",
    "    bar = df_temp.hvplot.bar('poolname', ['count(block_number)'], rot=90,\n",
    "                             subplots=True, shared_axes=False,\n",
    "                             width=800,height=400,\n",
    "                             title=analysis_period +'Miners, blockcount')\n",
    "    bar_perc = df_temp.hvplot.bar('poolname', ['percent'], rot=90,\n",
    "                                  subplots=True, shared_axes=False,\n",
    "                                  width=800,height=400,\n",
    "                                  title=analysis_period +'Miners by %')\n",
    "\n",
    "    \n",
    "    hover = HoverTool(tooltips=[\n",
    "        (\"blocks mined\", \"$count(block_number)\"),\n",
    "        (\"percentage\", \"$percent\")\n",
    "    ])\n",
    "\n",
    "    #plot.options(tools=[hover])\n",
    "    # display plot\n",
    "    hv.show(bar)\n",
    "    hv.show(bar_perc)\n",
    "    del df_temp\n",
    "    gc.collect()\n"
   ]
  },
  {
   "cell_type": "markdown",
   "metadata": {},
   "source": [
    "### Difficulty"
   ]
  },
  {
   "cell_type": "markdown",
   "metadata": {},
   "source": [
    "#### SETUP"
   ]
  },
  {
   "cell_type": "code",
   "execution_count": null,
   "metadata": {},
   "outputs": [],
   "source": [
    "startdate = '2018-10-01 00:00:00'\n",
    "enddate = '2018-10-14 00:00:00'\n",
    "analysis_period = startdate[0:10]+' to '+enddate[0:10]+': '"
   ]
  },
  {
   "cell_type": "code",
   "execution_count": null,
   "metadata": {},
   "outputs": [],
   "source": [
    "def plot_difficulty(df,startdate):\n",
    "    # only plot requested period\n",
    "    startdate = datetime.strptime(startdate, \"%Y-%m-%d %H:%M:%S\")\n",
    "    df_temp = df.filter(f.col('block_timestamp')>= startdate)\n",
    "\n",
    "    df_temp = df_temp.select('block_timestamp','difficulty')\n",
    "    #convert from string to int\n",
    "    df_temp = df_temp.toPandas().sort_values(by=['block_timestamp'])\n",
    "    line = df_temp.hvplot.line(x='block_timestamp',y='difficulty',rot=90,\n",
    "                               width=800,height=400,\n",
    "                               title=analysis_period +'Difficulty')\n",
    "    hv.show(line)\n",
    "    del df_temp\n",
    "    gc.collect()\n",
    "  "
   ]
  },
  {
   "cell_type": "markdown",
   "metadata": {},
   "source": [
    "### Daily Activity Miners - blocks"
   ]
  },
  {
   "cell_type": "code",
   "execution_count": null,
   "metadata": {},
   "outputs": [],
   "source": [
    "def plot_active_miners(df,startdate):\n",
    "    # only plot requested period\n",
    "    startdate = datetime.strptime(startdate, \"%Y-%m-%d %H:%M:%S\")\n",
    "    df_temp = df.filter(f.col('block_timestamp')>= startdate)\n",
    "    df_temp = df_temp.groupby('poolname','block_timestamp').agg({'block_number':'count'})\n",
    "    df_temp = df_temp.toPandas().sort_values(by=['block_timestamp'])\n",
    "    lines = df_temp.hvplot.line(x='block_timestamp',y='count(block_number)',rot=90,\n",
    "                                by='poolname',width=800,height=600,\n",
    "                                title=analysis_period+'pools blocks mined daily')\n",
    "    hv.show(lines)\n",
    "    del df_temp\n",
    "    gc.collect()\n"
   ]
  },
  {
   "cell_type": "markdown",
   "metadata": {},
   "source": [
    "### Retention"
   ]
  },
  {
   "cell_type": "code",
   "execution_count": null,
   "metadata": {},
   "outputs": [],
   "source": [
    "def pool_retention(df,startdate):\n",
    "    # filter data from previous month, excluding timespan under observation\n",
    "    startdate = datetime.strptime(startdate, \"%Y-%m-%d %H:%M:%S\")\n",
    "    # get tier 1 miner list for previous period\n",
    "    df_prev = df.filter(f.col('block_timestamp')<startdate)\n",
    "    tier1_miner_list_prev = make_tier1_list(df_prev,threshold_tx_paid_out,\n",
    "                                             threshold_blocks_mined_per_day)\n",
    "    miner_list_prev = make_miner_list(df_prev)\n",
    "    # get tier 1 miner list for period under observation\n",
    "    tier1_miner_list_period = tier1_miner_list\n",
    "    #reuse the myUDF class defined in utils\n",
    "    myUDF = MyUDFs()\n",
    "    myUDF.populate()\n",
    "    df_prev.unpersist()\n",
    "\n",
    "    df_period = df.filter(f.col('block_timestamp')>=startdate)\n",
    "    miner_list_period = make_miner_list(df_period)\n",
    "    # POOLS RETAINED = INTERSECTION OF TWO T1 MINER LISTS\n",
    "    retained = list(set(tier1_miner_list_prev) & set(tier1_miner_list_period))\n",
    "    retained_all = len(list(set(miner_list_prev) & set(miner_list_period)))\n",
    "    # POOLS DROPPED = IN LIST PREVIOUS BUT NOT IN THE NEW LIST\n",
    "    dropped = np.setdiff1d(tier1_miner_list_prev,tier1_miner_list_period)\n",
    "    dropped_all = len(np.setdiff1d(miner_list_prev,miner_list_period))\n",
    "    # NEW POOLS = IN PERIOD UNDER OBSERVATION LIST BUT NOT IN PREVIOUS  MONTH LIST\n",
    "    new = np.setdiff1d(tier1_miner_list_period,tier1_miner_list_prev)\n",
    "    new_all = len(np.setdiff1d(miner_list_period,miner_list_prev))\n",
    "    print(\"T1 POOLS RETAINED:{}\".format(myUDF.get_poolname_label_list(retained)))\n",
    "    print(\"T1 POOLS DROPPED:{}\".format(myUDF.get_poolname_label_list(dropped)))\n",
    "    print(\"NEW T1 POOLS:{}\".format(myUDF.get_poolname_label_list(new)))\n",
    "    print(\"\\n---------------------------------------------\")\n",
    "    print(\"ALL MINERS RETAINED:{}\".format(retained_all))\n",
    "    print(\"ALL MINERS DROPPED:{}\".format(dropped_all))\n",
    "    print(\"ALL NEW MINERS:{}\".format(new_all))\n",
    "    \n",
    "    df_period.unpersist()\n",
    "    gc.collect()\n",
    "pool_retention(df,startdate)"
   ]
  },
  {
   "cell_type": "markdown",
   "metadata": {},
   "source": [
    "### DISPLAY PLOTS/DATA"
   ]
  },
  {
   "cell_type": "code",
   "execution_count": null,
   "metadata": {},
   "outputs": [],
   "source": [
    "plot_miners(df,startdate)\n",
    "plot_difficulty(df,startdate)\n",
    "plot_active_miners(df,startdate)\n"
   ]
  },
  {
   "cell_type": "code",
   "execution_count": null,
   "metadata": {},
   "outputs": [],
   "source": [
    "t1 = time.time()\n",
    "total = t1 - t0\n",
    "print('time elaped = {} mins'.format(total/60))"
   ]
  }
 ],
 "metadata": {
  "kernelspec": {
   "display_name": "Python 3",
   "language": "python",
   "name": "python3"
  },
  "language_info": {
   "codemirror_mode": {
    "name": "ipython",
    "version": 3
   },
   "file_extension": ".py",
   "mimetype": "text/x-python",
   "name": "python",
   "nbconvert_exporter": "python",
   "pygments_lexer": "ipython3",
   "version": "3.5.5"
  },
  "toc": {
   "base_numbering": 1,
   "nav_menu": {},
   "number_sections": true,
   "sideBar": true,
   "skip_h1_title": false,
   "title_cell": "Table of Contents",
   "title_sidebar": "Contents",
   "toc_cell": false,
   "toc_position": {
    "height": "100px",
    "left": "74px",
    "top": "111.133px",
    "width": "226px"
   },
   "toc_section_display": true,
   "toc_window_display": true
  }
 },
 "nbformat": 4,
 "nbformat_minor": 2
}
